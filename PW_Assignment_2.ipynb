{
 "cells": [
  {
   "cell_type": "markdown",
   "id": "4119c97a",
   "metadata": {},
   "source": [
    "#1"
   ]
  },
  {
   "cell_type": "markdown",
   "id": "77d35ccf-79e3-4444-9381-0fe3cd673585",
   "metadata": {},
   "source": [
    "In Python, we can add comments to your code using the '#' symbol.\n",
    "Everything after the '#' on a line is considered a comment and is ignored by the Python interpreter.\n",
    "There are basically three types of comment:\n"
   ]
  },
  {
   "cell_type": "markdown",
   "id": "a435ea63-49b2-42d1-a1f9-18ff3d20f47a",
   "metadata": {},
   "source": [
    "1) Single-line Comment:"
   ]
  },
  {
   "cell_type": "code",
   "execution_count": null,
   "id": "b2890d3d-c2ab-4562-9e37-9a58a3fdbd52",
   "metadata": {},
   "outputs": [],
   "source": [
    "# This is a single-line comment"
   ]
  },
  {
   "cell_type": "markdown",
   "id": "d2ec1a1a-7bf5-426d-a8cf-51731e796428",
   "metadata": {},
   "source": [
    "2) Inline Comment:"
   ]
  },
  {
   "cell_type": "code",
   "execution_count": null,
   "id": "0484bdf1-d1b3-4a4d-9e13-486450e1724b",
   "metadata": {},
   "outputs": [],
   "source": [
    "age = 25  # This is an inline comment"
   ]
  },
  {
   "cell_type": "markdown",
   "id": "a7a5aa02-0a55-46ef-ac28-2c80fae9eb28",
   "metadata": {},
   "source": [
    "3) Multiline Comment (using triple-quotes)"
   ]
  },
  {
   "cell_type": "code",
   "execution_count": null,
   "id": "d361115a-b921-4d4f-9091-9b7b45c1eec8",
   "metadata": {},
   "outputs": [],
   "source": [
    "\"\"\"\n",
    "This is a\n",
    "multiline comment\n",
    "using triple-quotes.\n",
    "\"\"\""
   ]
  },
  {
   "cell_type": "markdown",
   "id": "b6c3cb70-1c4c-40f7-b27d-33c6ab930c16",
   "metadata": {},
   "source": [
    "#2"
   ]
  },
  {
   "cell_type": "markdown",
   "id": "6ceeeb0e-9e9e-4f81-8b3f-07d5f5f520e0",
   "metadata": {},
   "source": [
    "In Python, a variable is a named storage location that holds a value. Variables are used to store and manage data in a program. Unlike some other programming languages, Python is dynamically typed, which means you don't need to explicitly declare the type of a variable. The type of the variable is inferred at runtime.\n",
    "\n",
    "Here's how you declare and assign values to variables in Python:"
   ]
  },
  {
   "cell_type": "markdown",
   "id": "593fd05f-c744-42be-9d24-fe2a186ae94d",
   "metadata": {},
   "source": [
    "1) Declaration and Assignment:"
   ]
  },
  {
   "cell_type": "code",
   "execution_count": null,
   "id": "04db95a0-ad77-48b7-9400-f2bda14dbd30",
   "metadata": {},
   "outputs": [],
   "source": [
    "# Variable declaration and assignment\n",
    "age = 25\n",
    "name = \"John\"\n"
   ]
  },
  {
   "cell_type": "markdown",
   "id": "633f0d94-d590-4a44-8325-8353accba9e0",
   "metadata": {},
   "source": [
    "2) Multiple Assignments:"
   ]
  },
  {
   "cell_type": "code",
   "execution_count": null,
   "id": "23c623b7-9f61-42bf-84d1-0a40ea4ab4e6",
   "metadata": {},
   "outputs": [],
   "source": [
    "a, b, c = 10, 20, 30"
   ]
  },
  {
   "cell_type": "markdown",
   "id": "8431ef9f-e4f4-429c-b92d-0e3b2c32be51",
   "metadata": {},
   "source": [
    "#3"
   ]
  },
  {
   "cell_type": "markdown",
   "id": "2a8dad09-cda4-4304-972f-ccf74adda8ff",
   "metadata": {},
   "source": [
    "In Python, you can convert one data type to another using type conversion functions or methods. Here are some commonly used methods for type conversion:"
   ]
  },
  {
   "cell_type": "markdown",
   "id": "43c280c4-beaf-471a-8982-d5782354a4a5",
   "metadata": {},
   "source": [
    "1) Implicit Type Conversion (Coercion):\n",
    "Python performs automatic type conversion in certain situations, known as implicit type conversion or coercion. For example, when performing operations between different types, Python may automatically convert one or more operands to a common type."
   ]
  },
  {
   "cell_type": "code",
   "execution_count": null,
   "id": "31a900f7-3cdc-465e-9fe9-bfafde4c5a1f",
   "metadata": {},
   "outputs": [],
   "source": [
    "a = 5         # int\n",
    "b = 2.0       # float\n",
    "\n",
    "result = a + b  # Python converts 'a' to float before performing the addition\n"
   ]
  },
  {
   "cell_type": "markdown",
   "id": "f1854aa3-6998-4e0a-aca5-f34eb25cbf8b",
   "metadata": {},
   "source": [
    "2) Explicit Type Conversion (Type Casting):\n",
    "You can explicitly convert one data type to another using type casting functions. Some commonly used functions include:\n",
    "\n",
    "int(): Converts a value to an integer.\n",
    "float(): Converts a value to a floating-point number.\n",
    "str(): Converts a value to a string.\n",
    "list(): Converts a sequence (e.g., tuple, string) to a list.\n",
    "tuple(): Converts a sequence to a tuple."
   ]
  },
  {
   "cell_type": "code",
   "execution_count": null,
   "id": "a01c6bcd-cda9-41c6-aebb-7b6c6aeb411d",
   "metadata": {},
   "outputs": [],
   "source": [
    "# Explicit type conversion\n",
    "x = 10\n",
    "y = float(x)   # Converts 'x' to a float\n",
    "z = str(x)     # Converts 'x' to a string\n"
   ]
  },
  {
   "cell_type": "markdown",
   "id": "27ac3e9a-1817-4a3e-ab2d-436ea2f8946c",
   "metadata": {},
   "source": [
    "#4"
   ]
  },
  {
   "cell_type": "markdown",
   "id": "46b594a6-f9ea-4677-b975-4e88a40b6d35",
   "metadata": {},
   "source": [
    "Steps\n",
    "1) Open Command Prompt\n",
    "\n",
    "2) Navigate to the Python Script's Directory:\n",
    "   Use the cd command to navigate to the directory where your Python script    is located. For example:\n",
    "   cd path/to/your/script/directory\n",
    "   \n",
    "3) Run the Python Script:\n",
    "   python3 myscript.py  # For Python 3\n"
   ]
  },
  {
   "cell_type": "code",
   "execution_count": null,
   "id": "d3733d65-5b9e-43e2-b19b-617ec3167c81",
   "metadata": {},
   "outputs": [],
   "source": []
  },
  {
   "cell_type": "code",
   "execution_count": null,
   "id": "743a1572-e0ee-4ebe-80d8-b84fbdfe62c0",
   "metadata": {},
   "outputs": [],
   "source": []
  },
  {
   "cell_type": "markdown",
   "id": "d5af8717-5b93-4fb5-b306-684045cc85fa",
   "metadata": {},
   "source": [
    "#5"
   ]
  },
  {
   "cell_type": "code",
   "execution_count": 2,
   "id": "54364ba0",
   "metadata": {},
   "outputs": [],
   "source": [
    "my_list = [1, 2, 3, 4, 5]"
   ]
  },
  {
   "cell_type": "code",
   "execution_count": 5,
   "id": "20887f1b",
   "metadata": {},
   "outputs": [],
   "source": [
    "sub_list = my_list[1:3]"
   ]
  },
  {
   "cell_type": "code",
   "execution_count": 6,
   "id": "4deed107",
   "metadata": {},
   "outputs": [
    {
     "data": {
      "text/plain": [
       "[2, 3]"
      ]
     },
     "execution_count": 6,
     "metadata": {},
     "output_type": "execute_result"
    }
   ],
   "source": [
    "sub_list"
   ]
  },
  {
   "cell_type": "markdown",
   "id": "cb760d47",
   "metadata": {},
   "source": [
    "#6"
   ]
  },
  {
   "cell_type": "markdown",
   "id": "64d026b9",
   "metadata": {},
   "source": [
    "A complex number is a number which has two parts.\n",
    "(i) Real Part\n",
    "(ii) Imaginary Part\n",
    "In mathematics, it is represented as \"a+bi\", where \"a\" is real part and \"b\" is imaginary part.\n",
    "In Python, it is represented as \"(a+bj)\"."
   ]
  },
  {
   "cell_type": "code",
   "execution_count": 9,
   "id": "615368ba",
   "metadata": {},
   "outputs": [],
   "source": [
    "#Example\n",
    "x = 1+2j"
   ]
  },
  {
   "cell_type": "code",
   "execution_count": 10,
   "id": "23c19851",
   "metadata": {},
   "outputs": [],
   "source": [
    "y = 2+6j"
   ]
  },
  {
   "cell_type": "code",
   "execution_count": 11,
   "id": "bc73bcfb",
   "metadata": {},
   "outputs": [
    {
     "data": {
      "text/plain": [
       "(3+8j)"
      ]
     },
     "execution_count": 11,
     "metadata": {},
     "output_type": "execute_result"
    }
   ],
   "source": [
    "x+y"
   ]
  },
  {
   "cell_type": "markdown",
   "id": "877eec2e-73e5-4de4-b88d-cb94b169c198",
   "metadata": {},
   "source": [
    "#7"
   ]
  },
  {
   "cell_type": "code",
   "execution_count": null,
   "id": "cda13fd0-5ece-4492-b1e0-2eb36599697c",
   "metadata": {},
   "outputs": [],
   "source": [
    "\n",
    "age = 25"
   ]
  },
  {
   "cell_type": "code",
   "execution_count": null,
   "id": "3049efd7-3645-4022-8e6d-ed68830db746",
   "metadata": {},
   "outputs": [],
   "source": []
  },
  {
   "cell_type": "code",
   "execution_count": null,
   "id": "1ef35511-4258-4b43-994e-07bb9a4e9d57",
   "metadata": {},
   "outputs": [],
   "source": []
  },
  {
   "cell_type": "markdown",
   "id": "298559d3",
   "metadata": {},
   "source": [
    "#8"
   ]
  },
  {
   "cell_type": "code",
   "execution_count": 20,
   "id": "94e624a4",
   "metadata": {},
   "outputs": [],
   "source": [
    "price = 9.99"
   ]
  },
  {
   "cell_type": "markdown",
   "id": "fe831ef9",
   "metadata": {},
   "source": [
    "This variable belongs to \"float\" data type."
   ]
  },
  {
   "cell_type": "code",
   "execution_count": 21,
   "id": "90223756",
   "metadata": {},
   "outputs": [
    {
     "data": {
      "text/plain": [
       "float"
      ]
     },
     "execution_count": 21,
     "metadata": {},
     "output_type": "execute_result"
    }
   ],
   "source": [
    "type(price)"
   ]
  },
  {
   "cell_type": "markdown",
   "id": "8fc7423a",
   "metadata": {},
   "source": [
    "#9"
   ]
  },
  {
   "cell_type": "code",
   "execution_count": 4,
   "id": "ac0f8bb6",
   "metadata": {},
   "outputs": [
    {
     "name": "stdout",
     "output_type": "stream",
     "text": [
      "Rayyan Ahmed Khan\n"
     ]
    },
    {
     "data": {
      "text/plain": [
       "'Rayyan Ahmed Khan'"
      ]
     },
     "execution_count": 4,
     "metadata": {},
     "output_type": "execute_result"
    }
   ],
   "source": [
    "name = \"Rayyan Ahmed Khan\"\n",
    "print(name)\n",
    "eval(\"name\")"
   ]
  },
  {
   "cell_type": "markdown",
   "id": "d432b833",
   "metadata": {},
   "source": [
    "#10"
   ]
  },
  {
   "cell_type": "code",
   "execution_count": 13,
   "id": "79c0589f",
   "metadata": {},
   "outputs": [],
   "source": [
    "s = \"Hello, World!\""
   ]
  },
  {
   "cell_type": "code",
   "execution_count": 18,
   "id": "a023caf8",
   "metadata": {},
   "outputs": [],
   "source": [
    "output = s[-6:-1:1]"
   ]
  },
  {
   "cell_type": "code",
   "execution_count": 19,
   "id": "09d44901",
   "metadata": {},
   "outputs": [
    {
     "data": {
      "text/plain": [
       "'World'"
      ]
     },
     "execution_count": 19,
     "metadata": {},
     "output_type": "execute_result"
    }
   ],
   "source": [
    "output"
   ]
  },
  {
   "cell_type": "markdown",
   "id": "b57b3ce5",
   "metadata": {},
   "source": [
    "#11\n"
   ]
  },
  {
   "cell_type": "code",
   "execution_count": null,
   "id": "6bb9de41",
   "metadata": {},
   "outputs": [],
   "source": [
    "is_student = True"
   ]
  }
 ],
 "metadata": {
  "kernelspec": {
   "display_name": "Python 3 (ipykernel)",
   "language": "python",
   "name": "python3"
  },
  "language_info": {
   "codemirror_mode": {
    "name": "ipython",
    "version": 3
   },
   "file_extension": ".py",
   "mimetype": "text/x-python",
   "name": "python",
   "nbconvert_exporter": "python",
   "pygments_lexer": "ipython3",
   "version": "3.10.8"
  }
 },
 "nbformat": 4,
 "nbformat_minor": 5
}
