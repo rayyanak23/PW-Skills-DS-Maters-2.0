{
 "cells": [
  {
   "cell_type": "markdown",
   "id": "9e7d7ffe-5bc6-456d-b04d-5fa40557bd87",
   "metadata": {},
   "source": [
    "#1"
   ]
  },
  {
   "cell_type": "code",
   "execution_count": 2,
   "id": "125409a0-6814-4c87-9820-7ecc2bd2d50b",
   "metadata": {},
   "outputs": [],
   "source": [
    "class vehicle:\n",
    "    \n",
    "    def __init__(self, name_of_vehicle, max_speed, average_of_vehicle):\n",
    "        self.name_of_vehicle = name_of_vehicle\n",
    "        self.max_speed = max_speed\n",
    "        self.average_of_vehicle = average_of_vehicle"
   ]
  },
  {
   "cell_type": "markdown",
   "id": "46dde4be-3c77-4b98-b1d7-c698e0b827c3",
   "metadata": {},
   "source": [
    "#2"
   ]
  },
  {
   "cell_type": "code",
   "execution_count": 34,
   "id": "2ebce3e6-636d-4628-9128-8ad3984a1e8a",
   "metadata": {},
   "outputs": [],
   "source": [
    "class car(vehicle):\n",
    "    \n",
    "    def seating_capacity(self, capacity):\n",
    "        \n",
    "        return f'''Name of car is \"{self.name_of_vehicle}\" and seating capacity is {capacity}'''\n",
    "        \n",
    "        \n",
    "        "
   ]
  },
  {
   "cell_type": "code",
   "execution_count": 35,
   "id": "00b295ba-c4eb-4d25-9115-2bab6fd5c950",
   "metadata": {},
   "outputs": [],
   "source": [
    "audi = car(\"Audi\", 250, 180)"
   ]
  },
  {
   "cell_type": "code",
   "execution_count": 36,
   "id": "5b323c61-0325-4a31-8803-34b911f20fb2",
   "metadata": {},
   "outputs": [
    {
     "data": {
      "text/plain": [
       "'Name of car is \"Audi\" and seating capacity is 4'"
      ]
     },
     "execution_count": 36,
     "metadata": {},
     "output_type": "execute_result"
    }
   ],
   "source": [
    "audi.seating_capacity(4)"
   ]
  },
  {
   "cell_type": "markdown",
   "id": "08133e9f-c9b6-48ee-a549-4f7c6f8ff572",
   "metadata": {},
   "source": [
    "#3"
   ]
  },
  {
   "cell_type": "markdown",
   "id": "c5eb3ab0-f3e8-4eca-8c32-e0888084664e",
   "metadata": {},
   "source": [
    "Multiple inheritance is a feature in object-oriented programming languages where a class can inherit attributes and methods from more than one parent class. In Python, you can achieve multiple inheritance by creating a class that inherits from multiple parent classes."
   ]
  },
  {
   "cell_type": "code",
   "execution_count": 37,
   "id": "174824db-886f-4e5f-8469-7843ae804c52",
   "metadata": {},
   "outputs": [],
   "source": [
    "class class1:\n",
    "    def test_class1(self):\n",
    "        return \"This is a class 1\""
   ]
  },
  {
   "cell_type": "code",
   "execution_count": 39,
   "id": "0e9012da-f833-467c-82ad-cb4f55dc4fb6",
   "metadata": {},
   "outputs": [],
   "source": [
    "class class2:\n",
    "    def test_class2(self):\n",
    "        return \"This is a class 2\""
   ]
  },
  {
   "cell_type": "code",
   "execution_count": 40,
   "id": "f493a276-6afd-486b-b521-9b462a05bf22",
   "metadata": {},
   "outputs": [],
   "source": [
    "class class3(class1, class2):\n",
    "    pass"
   ]
  },
  {
   "cell_type": "code",
   "execution_count": 41,
   "id": "a9331956-22fa-41c9-bd22-f3d1387a2dec",
   "metadata": {},
   "outputs": [],
   "source": [
    "obj_class3 = class3()"
   ]
  },
  {
   "cell_type": "code",
   "execution_count": 42,
   "id": "e44380de-4eab-4451-9c56-4c8b315f2f30",
   "metadata": {},
   "outputs": [
    {
     "data": {
      "text/plain": [
       "'This is a class 2'"
      ]
     },
     "execution_count": 42,
     "metadata": {},
     "output_type": "execute_result"
    }
   ],
   "source": [
    "obj_class3.test_class2()"
   ]
  },
  {
   "cell_type": "code",
   "execution_count": 43,
   "id": "04a90f34-ced4-4053-b3dd-43a82ffc070e",
   "metadata": {},
   "outputs": [
    {
     "data": {
      "text/plain": [
       "'This is a class 1'"
      ]
     },
     "execution_count": 43,
     "metadata": {},
     "output_type": "execute_result"
    }
   ],
   "source": [
    "obj_class3.test_class1()"
   ]
  },
  {
   "cell_type": "markdown",
   "id": "5e9b6f22-c168-487d-8682-78c86163b34a",
   "metadata": {},
   "source": [
    "#4"
   ]
  },
  {
   "cell_type": "markdown",
   "id": "4ab6b65f-e278-40cb-8163-10f591b7e9d4",
   "metadata": {},
   "source": [
    "In Python, getter and setter methods are used to control the access and modification of the attributes of a class. They are typically used to encapsulate the internal representation of an object and provide a way to get and set the values of private attributes. Getter methods are used to retrieve the values of attributes, while setter methods are used to set or modify the values of attributes."
   ]
  },
  {
   "cell_type": "code",
   "execution_count": 1,
   "id": "acb20969-cac1-4c60-92cb-40a4d6079ca7",
   "metadata": {},
   "outputs": [
    {
     "name": "stdout",
     "output_type": "stream",
     "text": [
      "Name: John\n",
      "Age: 30\n",
      "Updated Name: Jane\n",
      "Updated Age: 25\n"
     ]
    }
   ],
   "source": [
    "class Person:\n",
    "    def __init__(self, name, age):\n",
    "        self._name = name  # Private attribute with a single leading underscore\n",
    "        self._age = age\n",
    "\n",
    "    # Getter method for 'name'\n",
    "    def get_name(self):\n",
    "        return self._name\n",
    "\n",
    "    # Setter method for 'name'\n",
    "    def set_name(self, name):\n",
    "        self._name = name\n",
    "\n",
    "    # Getter method for 'age'\n",
    "    def get_age(self):\n",
    "        return self._age\n",
    "\n",
    "    # Setter method for 'age'\n",
    "    def set_age(self, age):\n",
    "        if age >= 0:\n",
    "            self._age = age\n",
    "        else:\n",
    "            print(\"Age cannot be negative.\")\n",
    "\n",
    "# Create an instance of the Person class\n",
    "person = Person(\"John\", 30)\n",
    "\n",
    "# Using the getter methods\n",
    "print(\"Name:\", person.get_name())\n",
    "print(\"Age:\", person.get_age())\n",
    "\n",
    "# Using the setter methods\n",
    "person.set_name(\"Jane\")\n",
    "person.set_age(25)\n",
    "\n",
    "# Print updated values\n",
    "print(\"Updated Name:\", person.get_name())\n",
    "print(\"Updated Age:\", person.get_age())\n"
   ]
  },
  {
   "cell_type": "markdown",
   "id": "46490a0d-e977-4eff-820f-1aa6397d9eb7",
   "metadata": {},
   "source": [
    "#5"
   ]
  },
  {
   "cell_type": "markdown",
   "id": "5078222f-03ff-445c-b39f-27027c0c2e9c",
   "metadata": {},
   "source": [
    "Method overriding in Python occurs when a subclass provides a specific implementation for a method that is already defined in its superclass. The overridden method in the subclass should have the same method signature (name and parameters) as the method in the superclass. This allows the subclass to provide its own implementation while maintaining the same interface as the superclass."
   ]
  },
  {
   "cell_type": "code",
   "execution_count": 2,
   "id": "cf6e4001-15aa-4f6a-bf4e-11a52ce4e7c2",
   "metadata": {},
   "outputs": [
    {
     "name": "stdout",
     "output_type": "stream",
     "text": [
      "Animal sound:\n",
      "Generic animal sound\n",
      "\n",
      "Dog sound:\n",
      "Woof! Woof!\n",
      "\n",
      "Cat sound:\n",
      "Meow\n"
     ]
    }
   ],
   "source": [
    "class Animal:\n",
    "    def make_sound(self):\n",
    "        print(\"Generic animal sound\")\n",
    "\n",
    "class Dog(Animal):\n",
    "    def make_sound(self):\n",
    "        print(\"Woof! Woof!\")\n",
    "\n",
    "class Cat(Animal):\n",
    "    def make_sound(self):\n",
    "        print(\"Meow\")\n",
    "\n",
    "# Create instances of the classes\n",
    "animal = Animal()\n",
    "dog = Dog()\n",
    "cat = Cat()\n",
    "\n",
    "# Call the make_sound method on each instance\n",
    "print(\"Animal sound:\")\n",
    "animal.make_sound()\n",
    "\n",
    "print(\"\\nDog sound:\")\n",
    "dog.make_sound()\n",
    "\n",
    "print(\"\\nCat sound:\")\n",
    "cat.make_sound()\n"
   ]
  }
 ],
 "metadata": {
  "kernelspec": {
   "display_name": "Python 3 (ipykernel)",
   "language": "python",
   "name": "python3"
  },
  "language_info": {
   "codemirror_mode": {
    "name": "ipython",
    "version": 3
   },
   "file_extension": ".py",
   "mimetype": "text/x-python",
   "name": "python",
   "nbconvert_exporter": "python",
   "pygments_lexer": "ipython3",
   "version": "3.10.8"
  }
 },
 "nbformat": 4,
 "nbformat_minor": 5
}
