{
 "cells": [
  {
   "cell_type": "markdown",
   "id": "3b841a46-eaa5-4025-880d-b71f7f1b3312",
   "metadata": {},
   "source": [
    "#1"
   ]
  },
  {
   "cell_type": "code",
   "execution_count": 36,
   "id": "0105265f-ef9a-45dc-acf0-1e9d6514b307",
   "metadata": {},
   "outputs": [
    {
     "data": {
      "text/plain": [
       "[('Virat Kohli', 24936),\n",
       " ('Jack Kallis', 25534),\n",
       " ('Ricky Ponting', 27483),\n",
       " ('Sachin Tendulkar', 34357)]"
      ]
     },
     "execution_count": 36,
     "metadata": {},
     "output_type": "execute_result"
    }
   ],
   "source": [
    "# List of tuples\n",
    "data = [('Sachin Tendulkar', 34357), ('Ricky Ponting', 27483), ('Jack Kallis', 25534), ('Virat Kohli', 24936)]\n",
    "\n",
    "# Sorting the list based on the second element of each tuple using a lambda function\n",
    "sorted_data = sorted(data, key=lambda x: x[1])\n",
    "sorted_data    \n",
    "    "
   ]
  },
  {
   "cell_type": "markdown",
   "id": "72bc8b57-4559-44ec-b9cf-bec59f50031c",
   "metadata": {},
   "source": [
    "#2"
   ]
  },
  {
   "cell_type": "code",
   "execution_count": 25,
   "id": "7767a8aa-8c25-4323-a208-351be8b69b33",
   "metadata": {},
   "outputs": [
    {
     "data": {
      "text/plain": [
       "[1, 4, 9, 16, 25, 36, 49, 64, 81, 100]"
      ]
     },
     "execution_count": 25,
     "metadata": {},
     "output_type": "execute_result"
    }
   ],
   "source": [
    "l = [1, 2, 3, 4, 5, 6, 7, 8, 9, 10]\n",
    "list(map(lambda x:x**2,l))"
   ]
  },
  {
   "cell_type": "markdown",
   "id": "99f1aea3-83d2-4e6b-936c-ce83164435e1",
   "metadata": {},
   "source": [
    "#3"
   ]
  },
  {
   "cell_type": "code",
   "execution_count": 24,
   "id": "78839480-ff71-4a20-87cf-f5f2b3cab44a",
   "metadata": {},
   "outputs": [
    {
     "data": {
      "text/plain": [
       "('1', '2', '3', '4', '5', '6', '7', '8', '9', '10')"
      ]
     },
     "execution_count": 24,
     "metadata": {},
     "output_type": "execute_result"
    }
   ],
   "source": [
    "given = [1, 2, 3, 4, 5, 6, 7, 8, 9, 10]\n",
    "b = lambda x : str(x)\n",
    "tuple(map(b,given))\n"
   ]
  },
  {
   "cell_type": "markdown",
   "id": "fb81ae02-9f33-434b-b521-2c7f659118e5",
   "metadata": {},
   "source": [
    "#4"
   ]
  },
  {
   "cell_type": "code",
   "execution_count": 8,
   "id": "ea6b195c-dab5-4156-a0c5-0284968885a7",
   "metadata": {},
   "outputs": [
    {
     "data": {
      "text/plain": [
       "15511210043330985984000000"
      ]
     },
     "execution_count": 8,
     "metadata": {},
     "output_type": "execute_result"
    }
   ],
   "source": [
    "l = []\n",
    "for i in range(1,26):\n",
    "    l.append(i)\n",
    "from functools import reduce\n",
    "prod = reduce(lambda x,y:x*y,l)\n",
    "prod  "
   ]
  },
  {
   "cell_type": "markdown",
   "id": "d195d26f-a2f8-45d0-b179-10c7ac09e125",
   "metadata": {},
   "source": [
    "#5"
   ]
  },
  {
   "cell_type": "code",
   "execution_count": 26,
   "id": "d86811e2-bbc0-460f-b0b7-04cf75b1fc08",
   "metadata": {},
   "outputs": [
    {
     "data": {
      "text/plain": [
       "[6, 60, 90, 120]"
      ]
     },
     "execution_count": 26,
     "metadata": {},
     "output_type": "execute_result"
    }
   ],
   "source": [
    "l = [2, 3, 6, 9, 27, 60, 90, 120, 55, 46]\n",
    "list(filter(lambda x: x%2 ==0 and x%3==0,l))"
   ]
  },
  {
   "cell_type": "markdown",
   "id": "b1a8d9a7-4608-4273-9b3f-779c10fe042a",
   "metadata": {},
   "source": [
    "#6"
   ]
  },
  {
   "cell_type": "code",
   "execution_count": 28,
   "id": "3a817c6c-b852-4322-a72e-0a7720b37b3d",
   "metadata": {},
   "outputs": [
    {
     "data": {
      "text/plain": [
       "['php', 'aba', 'radar', 'level']"
      ]
     },
     "execution_count": 28,
     "metadata": {},
     "output_type": "execute_result"
    }
   ],
   "source": [
    "def is_pal(s):\n",
    "    a = ''\n",
    "    for i in s:\n",
    "        a = i + a\n",
    "    return a==s\n",
    "l = ['python', 'php', 'aba', 'radar', 'level']\n",
    "list(filter(lambda x : is_pal(x),l))\n",
    "    "
   ]
  },
  {
   "cell_type": "code",
   "execution_count": null,
   "id": "125a4d78-70fc-4e7c-b2be-e31f0419f323",
   "metadata": {},
   "outputs": [],
   "source": []
  },
  {
   "cell_type": "code",
   "execution_count": null,
   "id": "819101cb-7e57-4428-9910-b9f966270869",
   "metadata": {},
   "outputs": [],
   "source": []
  }
 ],
 "metadata": {
  "kernelspec": {
   "display_name": "Python 3 (ipykernel)",
   "language": "python",
   "name": "python3"
  },
  "language_info": {
   "codemirror_mode": {
    "name": "ipython",
    "version": 3
   },
   "file_extension": ".py",
   "mimetype": "text/x-python",
   "name": "python",
   "nbconvert_exporter": "python",
   "pygments_lexer": "ipython3",
   "version": "3.10.8"
  }
 },
 "nbformat": 4,
 "nbformat_minor": 5
}
