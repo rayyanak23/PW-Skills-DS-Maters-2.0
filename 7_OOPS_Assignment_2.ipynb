{
 "cells": [
  {
   "cell_type": "markdown",
   "id": "cc149052-a3a1-4ae7-b0bb-66e110e7d94f",
   "metadata": {},
   "source": [
    "#1"
   ]
  },
  {
   "cell_type": "markdown",
   "id": "f63d2e9b-7870-4e50-a483-da6541695a89",
   "metadata": {},
   "source": [
    "Abstraction is one of the four fundamental principles of object-oriented programming (OOP). It involves simplifying complex systems by modeling classes based on the essential properties and behaviors they share, while ignoring or abstracting away the non-essential details. Abstraction allows programmers to work with high-level representations of objects, focusing on what an object does rather than how it achieves it.\n",
    "In OOP, abstraction is achieved through the use of abstract classes and interfaces. An abstract class is a class that cannot be instantiated on its own and may contain one or more abstract methods. An abstract method is a method that is declared in the abstract class but has no implementation. Concrete subclasses must provide implementations for all abstract methods."
   ]
  },
  {
   "cell_type": "code",
   "execution_count": 1,
   "id": "f76e88d5-057b-47ef-8745-ea470e05f4c2",
   "metadata": {},
   "outputs": [
    {
     "name": "stdout",
     "output_type": "stream",
     "text": [
      "Circle Area: 78.5, Perimeter: 31.400000000000002\n",
      "Rectangle Area: 24, Perimeter: 20\n"
     ]
    }
   ],
   "source": [
    "from abc import ABC, abstractmethod\n",
    "\n",
    "# Abstract class representing a Shape\n",
    "class Shape(ABC):\n",
    "    @abstractmethod\n",
    "    def area(self):\n",
    "        pass\n",
    "\n",
    "    @abstractmethod\n",
    "    def perimeter(self):\n",
    "        pass\n",
    "\n",
    "# Concrete subclass Circle implementing Shape\n",
    "class Circle(Shape):\n",
    "    def __init__(self, radius):\n",
    "        self.radius = radius\n",
    "\n",
    "    def area(self):\n",
    "        return 3.14 * self.radius * self.radius\n",
    "\n",
    "    def perimeter(self):\n",
    "        return 2 * 3.14 * self.radius\n",
    "\n",
    "# Concrete subclass Rectangle implementing Shape\n",
    "class Rectangle(Shape):\n",
    "    def __init__(self, length, width):\n",
    "        self.length = length\n",
    "        self.width = width\n",
    "\n",
    "    def area(self):\n",
    "        return self.length * self.width\n",
    "\n",
    "    def perimeter(self):\n",
    "        return 2 * (self.length + self.width)\n",
    "\n",
    "# Creating instances of concrete subclasses\n",
    "circle = Circle(5)\n",
    "rectangle = Rectangle(4, 6)\n",
    "\n",
    "# Using the abstraction to calculate area and perimeter\n",
    "print(f\"Circle Area: {circle.area()}, Perimeter: {circle.perimeter()}\")\n",
    "print(f\"Rectangle Area: {rectangle.area()}, Perimeter: {rectangle.perimeter()}\")\n"
   ]
  },
  {
   "cell_type": "markdown",
   "id": "13485204-b1ac-4f42-bb8e-c572d7a69158",
   "metadata": {},
   "source": [
    "#2"
   ]
  },
  {
   "cell_type": "markdown",
   "id": "17603219-536d-47d6-b74b-7772cb2a4b45",
   "metadata": {},
   "source": [
    "1) Abstraction"
   ]
  },
  {
   "cell_type": "markdown",
   "id": "496d23a4-6e42-4113-8051-ef60e62d880c",
   "metadata": {},
   "source": [
    "a) Abstraction involves simplifying complex systems by modeling classes based on the essential properties and behaviors they share, while ignoring or abstracting away the non-essential details.\n",
    "b) It allows programmers to work with high-level representations of objects, focusing on what an object does rather than how it achieves it."
   ]
  },
  {
   "cell_type": "code",
   "execution_count": 2,
   "id": "8a9b94fd-85a0-4c69-b631-1a9b9aaf26ab",
   "metadata": {},
   "outputs": [
    {
     "name": "stdout",
     "output_type": "stream",
     "text": [
      "Circle Area: 78.5\n"
     ]
    }
   ],
   "source": [
    "from abc import ABC, abstractmethod\n",
    "\n",
    "# Abstract class representing a Shape\n",
    "class Shape(ABC):\n",
    "    @abstractmethod\n",
    "    def area(self):\n",
    "        pass\n",
    "\n",
    "# Concrete subclass Circle implementing Shape\n",
    "class Circle(Shape):\n",
    "    def __init__(self, radius):\n",
    "        self.radius = radius\n",
    "\n",
    "    def area(self):\n",
    "        return 3.14 * self.radius * self.radius\n",
    "\n",
    "# Creating an instance of the concrete subclass\n",
    "circle = Circle(5)\n",
    "\n",
    "# Using the abstraction to calculate area\n",
    "print(f\"Circle Area: {circle.area()}\")\n"
   ]
  },
  {
   "cell_type": "markdown",
   "id": "78abbddb-778f-4065-846d-8963244d79f6",
   "metadata": {},
   "source": [
    "2) Encapsulation"
   ]
  },
  {
   "cell_type": "markdown",
   "id": "d02afbf3-7443-487b-aabf-005ec4b662de",
   "metadata": {},
   "source": [
    "a)  Encapsulation is the bundling of data (attributes) and the methods (functions) that operate on that data into a single unit known as a class.\n",
    "b) It restricts direct access to some of an object's components and can prevent unintended interference, promoting information hiding."
   ]
  },
  {
   "cell_type": "code",
   "execution_count": 3,
   "id": "6bcc5c86-6ec5-4eef-9b87-2b1b41aa38c4",
   "metadata": {},
   "outputs": [
    {
     "name": "stdout",
     "output_type": "stream",
     "text": [
      "Current Balance: 1000\n",
      "Updated Balance: 1500\n"
     ]
    }
   ],
   "source": [
    "class BankAccount:\n",
    "    def __init__(self, account_number, balance):\n",
    "        self._account_number = account_number  # Encapsulated attribute\n",
    "        self._balance = balance  # Encapsulated attribute\n",
    "\n",
    "    def get_balance(self):\n",
    "        return self._balance  # Encapsulated method to access balance\n",
    "\n",
    "    def deposit(self, amount):\n",
    "        self._balance += amount  # Encapsulated method to modify balance\n",
    "\n",
    "# Creating an instance of the BankAccount class\n",
    "account = BankAccount(\"123456\", 1000)\n",
    "\n",
    "# Using encapsulation to access and modify data\n",
    "current_balance = account.get_balance()\n",
    "print(f\"Current Balance: {current_balance}\")\n",
    "\n",
    "account.deposit(500)\n",
    "updated_balance = account.get_balance()\n",
    "print(f\"Updated Balance: {updated_balance}\")\n"
   ]
  },
  {
   "cell_type": "markdown",
   "id": "6db88d55-0abc-4e3d-91d1-37491091ae49",
   "metadata": {},
   "source": [
    "#3"
   ]
  },
  {
   "cell_type": "markdown",
   "id": "c82e25aa-2365-43e5-bba8-cca3e5e1318d",
   "metadata": {},
   "source": [
    "The \"abc\" module in Python stands for \"Abstract Base Classes.\" It provides a way to define abstract base classes in Python, and it is part of the standard library. Abstract base classes (ABCs) are classes that cannot be instantiated on their own but are meant to be subclassed. The primary purpose of the 'abc' module is to support the creation and use of abstract classes and abstract methods in a consistent manner."
   ]
  },
  {
   "cell_type": "markdown",
   "id": "ca409944-e6ae-4b87-978d-ffdd608b2099",
   "metadata": {},
   "source": [
    "#4"
   ]
  },
  {
   "cell_type": "markdown",
   "id": "f523cb95-b886-47d0-8a48-3798ffcdaba9",
   "metadata": {},
   "source": [
    "Data abstraction in programming refers to the concept of hiding the complex implementation details of data and providing a simplified and high-level interface for users to interact with that data. In object-oriented programming (OOP), data abstraction is often achieved through the use of classes and encapsulation.\n",
    "\n",
    "Here are the key steps to achieve data abstraction:"
   ]
  },
  {
   "cell_type": "markdown",
   "id": "680a7080-e9ea-44c3-8bee-fcba48011a7a",
   "metadata": {},
   "source": [
    "1) Define a Class\n",
    "2) Encapsulate Data\n",
    "3) Provide methods for interaction\n",
    "4) Hide implementation details\n",
    "5) Create Instances\n",
    "6) Use the interface"
   ]
  },
  {
   "cell_type": "markdown",
   "id": "d04659a0-cc02-43fe-b7d9-9409ec9a32b3",
   "metadata": {},
   "source": [
    "#5"
   ]
  },
  {
   "cell_type": "markdown",
   "id": "21715fae-fb4b-4a24-8937-ffeaca244bd8",
   "metadata": {},
   "source": [
    "No, you cannot create an instance of an abstract class in Python. Abstract classes are designed to be incomplete and serve as a blueprint for other classes. They may contain abstract methods, which are methods without an implementation. The purpose of an abstract class is to be subclassed, and concrete (non-abstract) subclasses must provide implementations for all abstract methods."
   ]
  },
  {
   "cell_type": "code",
   "execution_count": 7,
   "id": "09bfde59-f95b-4150-9872-9620a88c0c18",
   "metadata": {},
   "outputs": [],
   "source": [
    "from abc import ABC, abstractmethod\n",
    "\n",
    "class AbstractClass(ABC):\n",
    "    @abstractmethod\n",
    "    def abstract_method(self):\n",
    "        pass\n",
    "\n",
    "# Attempting to create an instance of the abstract class will result in an error\n",
    "# obj = AbstractClass()  # This line will raise TypeError"
   ]
  }
 ],
 "metadata": {
  "kernelspec": {
   "display_name": "Python 3 (ipykernel)",
   "language": "python",
   "name": "python3"
  },
  "language_info": {
   "codemirror_mode": {
    "name": "ipython",
    "version": 3
   },
   "file_extension": ".py",
   "mimetype": "text/x-python",
   "name": "python",
   "nbconvert_exporter": "python",
   "pygments_lexer": "ipython3",
   "version": "3.10.8"
  }
 },
 "nbformat": 4,
 "nbformat_minor": 5
}
