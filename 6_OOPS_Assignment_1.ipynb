{
 "cells": [
  {
   "cell_type": "markdown",
   "id": "d6dd97f5-fcd7-4952-a153-a8bbdced1c61",
   "metadata": {},
   "source": [
    "#1"
   ]
  },
  {
   "cell_type": "markdown",
   "id": "95156e84-77e8-4934-ac13-b658d47fe215",
   "metadata": {},
   "source": [
    "In object-oriented programming (OOP), a class is a blueprint or template for creating objects, and an object is an instance of a class. OOP is a programming paradigm that organizes code into objects, which encapsulate data and behavior. This approach promotes modularity, reusability, and a clear structure in software design."
   ]
  },
  {
   "cell_type": "code",
   "execution_count": 1,
   "id": "d0315b64-295c-4053-bbd1-7efdaeced190",
   "metadata": {},
   "outputs": [
    {
     "name": "stdout",
     "output_type": "stream",
     "text": [
      "2022 Toyota Camry\n",
      "2023 Honda Accord\n",
      "The car is now moving at 30 km/h.\n",
      "The car is now moving at 20 km/h.\n",
      "The car is now moving at 20 km/h.\n",
      "The car is now moving at 15 km/h.\n"
     ]
    }
   ],
   "source": [
    "# Define a Car class\n",
    "class Car:\n",
    "    # Class attribute\n",
    "    wheels = 4\n",
    "\n",
    "    # Constructor method (initializer)\n",
    "    def __init__(self, make, model, year):\n",
    "        # Instance attributes\n",
    "        self.make = make\n",
    "        self.model = model\n",
    "        self.year = year\n",
    "        self.speed = 0\n",
    "\n",
    "    # Instance method to display car information\n",
    "    def display_info(self):\n",
    "        print(f\"{self.year} {self.make} {self.model}\")\n",
    "\n",
    "    # Instance method to accelerate the car\n",
    "    def accelerate(self, speed_increase):\n",
    "        self.speed += speed_increase\n",
    "        print(f\"The car is now moving at {self.speed} km/h.\")\n",
    "\n",
    "    # Instance method to brake the car\n",
    "    def brake(self, speed_decrease):\n",
    "        self.speed -= speed_decrease\n",
    "        print(f\"The car is now moving at {self.speed} km/h.\")\n",
    "\n",
    "# Create instances (objects) of the Car class\n",
    "car1 = Car(\"Toyota\", \"Camry\", 2022)\n",
    "car2 = Car(\"Honda\", \"Accord\", 2023)\n",
    "\n",
    "# Accessing attributes and calling methods of objects\n",
    "car1.display_info()  # Output: 2022 Toyota Camry\n",
    "car2.display_info()  # Output: 2023 Honda Accord\n",
    "\n",
    "car1.accelerate(30)  # Output: The car is now moving at 30 km/h.\n",
    "car2.accelerate(20)  # Output: The car is now moving at 20 km/h.\n",
    "\n",
    "car1.brake(10)  # Output: The car is now moving at 20 km/h.\n",
    "car2.brake(5)   # Output: The car is now moving at 15 km/h.\n"
   ]
  },
  {
   "cell_type": "markdown",
   "id": "231f2d7e-faec-4d7f-92b8-6f12e1737cf2",
   "metadata": {},
   "source": [
    "#2"
   ]
  },
  {
   "cell_type": "markdown",
   "id": "f78c87bd-6ee9-49d4-a0e2-19c8eb879e05",
   "metadata": {},
   "source": [
    "1) Encapsulation\n",
    "2) Abstraction\n",
    "3) Inheritance\n",
    "4) Polymorphism"
   ]
  },
  {
   "cell_type": "markdown",
   "id": "aec6d1a0-3c47-4dea-b0a7-ee54d3ae6422",
   "metadata": {},
   "source": [
    "#3"
   ]
  },
  {
   "cell_type": "markdown",
   "id": "b7fab0a3-9f11-4956-a9b5-e55a2ede3c93",
   "metadata": {},
   "source": [
    "In object-oriented programming (OOP), the '__init__()' function is a special method in a class that is automatically called when an object is created. It is commonly used to initialize the attributes of the object, providing an opportunity to set up the initial state of the object."
   ]
  },
  {
   "cell_type": "code",
   "execution_count": 2,
   "id": "b6853e75-61a3-4629-bc0a-f4eb9a12bcfe",
   "metadata": {},
   "outputs": [
    {
     "name": "stdout",
     "output_type": "stream",
     "text": [
      "Buddy is 3 years old.\n",
      "Max is 5 years old.\n",
      "Buddy played for 30 minutes. Energy level: 70%\n",
      "Max played for 20 minutes. Energy level: 80%\n"
     ]
    }
   ],
   "source": [
    "class Dog:\n",
    "    # The __init__ method initializes the Dog object with a name and age\n",
    "    def __init__(self, name, age):\n",
    "        # Instance attributes\n",
    "        self.name = name\n",
    "        self.age = age\n",
    "        self.energy = 100  # Default energy level\n",
    "\n",
    "    # Instance method to display information about the dog\n",
    "    def display_info(self):\n",
    "        print(f\"{self.name} is {self.age} years old.\")\n",
    "\n",
    "    # Instance method to play, reducing energy level\n",
    "    def play(self, minutes):\n",
    "        self.energy -= minutes\n",
    "        print(f\"{self.name} played for {minutes} minutes. Energy level: {self.energy}%\")\n",
    "\n",
    "# Creating Dog objects\n",
    "dog1 = Dog(\"Buddy\", 3)\n",
    "dog2 = Dog(\"Max\", 5)\n",
    "\n",
    "# Accessing attributes and calling methods\n",
    "dog1.display_info()  # Output: Buddy is 3 years old.\n",
    "dog2.display_info()  # Output: Max is 5 years old.\n",
    "\n",
    "dog1.play(30)  # Output: Buddy played for 30 minutes. Energy level: 70%\n",
    "dog2.play(20)  # Output: Max played for 20 minutes. Energy level: 80%\n"
   ]
  },
  {
   "cell_type": "markdown",
   "id": "189e71f6-3497-4f11-9efb-b7cbb84729c3",
   "metadata": {},
   "source": [
    "#4"
   ]
  },
  {
   "cell_type": "markdown",
   "id": "7b102430-0c4c-4e31-bad8-cf1172508d86",
   "metadata": {},
   "source": [
    "In object-oriented programming (OOP), the term 'self' is a convention used in many programming languages (such as Python) to refer to the instance of the class itself. It is a reference to the current object and is passed as the first parameter to methods within a class. The use of 'self' is essential for distinguishing between instance variables and local variables within a class."
   ]
  },
  {
   "cell_type": "markdown",
   "id": "62612c41-6090-4723-97c3-a7983953483f",
   "metadata": {},
   "source": [
    "#5"
   ]
  },
  {
   "cell_type": "markdown",
   "id": "a4f3ab10-bde4-4e1d-a871-b6cf82bca85a",
   "metadata": {},
   "source": [
    "Inheritance is one of the four fundamental concepts of object-oriented programming (OOP), and it allows a new class (subclass or derived class) to inherit attributes and behaviors from an existing class (base class or parent class). This promotes code reuse, extensibility, and the creation of a hierarchy of classes."
   ]
  },
  {
   "cell_type": "markdown",
   "id": "344feea1-e82d-4c6c-9444-279d597cf416",
   "metadata": {},
   "source": [
    "There are several types of inheritance, including:"
   ]
  },
  {
   "cell_type": "markdown",
   "id": "e1cc7d4a-5b01-4bf8-987d-20e603aea287",
   "metadata": {},
   "source": [
    "1) Single Inheritance:\n",
    "In single inheritance, a class inherits from only one base class. The subclass inherits the attributes and behaviors of the single parent class.\n"
   ]
  },
  {
   "cell_type": "code",
   "execution_count": 3,
   "id": "8e420f79-62cd-43d3-a81c-5c3cee24d44d",
   "metadata": {},
   "outputs": [
    {
     "name": "stdout",
     "output_type": "stream",
     "text": [
      "Animal speaks\n",
      "Dog barks\n"
     ]
    }
   ],
   "source": [
    "class Animal:\n",
    "    def speak(self):\n",
    "        print(\"Animal speaks\")\n",
    "\n",
    "class Dog(Animal):\n",
    "    def bark(self):\n",
    "        print(\"Dog barks\")\n",
    "\n",
    "# Creating an instance of Dog\n",
    "my_dog = Dog()\n",
    "\n",
    "# Inheriting and using methods from both Animal and Dog\n",
    "my_dog.speak()  # Output: Animal speaks\n",
    "my_dog.bark()   # Output: Dog barks\n"
   ]
  },
  {
   "cell_type": "markdown",
   "id": "9443ae99-6d60-4328-848c-ba3f264d4ffd",
   "metadata": {},
   "source": [
    "2) Multiple Inheritance\n",
    "In multiple inheritance, a class inherits from more than one base class. The subclass inherits attributes and behaviors from multiple parent classes."
   ]
  },
  {
   "cell_type": "code",
   "execution_count": 4,
   "id": "b125a432-37b8-4467-b1f2-b03330511664",
   "metadata": {},
   "outputs": [
    {
     "name": "stdout",
     "output_type": "stream",
     "text": [
      "Can fly\n",
      "Can swim\n"
     ]
    }
   ],
   "source": [
    "class Flyable:\n",
    "    def fly(self):\n",
    "        print(\"Can fly\")\n",
    "\n",
    "class Swimmable:\n",
    "    def swim(self):\n",
    "        print(\"Can swim\")\n",
    "\n",
    "class Amphibian(Flyable, Swimmable):\n",
    "    pass\n",
    "\n",
    "# Creating an instance of Amphibian\n",
    "frog = Amphibian()\n",
    "\n",
    "# Inheriting and using methods from both Flyable and Swimmable\n",
    "frog.fly()   # Output: Can fly\n",
    "frog.swim()  # Output: Can swim\n"
   ]
  },
  {
   "cell_type": "markdown",
   "id": "b821beec-9c7d-459e-800f-7e43aaabf6ad",
   "metadata": {},
   "source": [
    "3) Multilevel Inheritance:\n",
    "In multilevel inheritance, a class inherits from another class, and then another class inherits from the second class. It forms a chain of inheritance."
   ]
  },
  {
   "cell_type": "code",
   "execution_count": 5,
   "id": "889f10b2-87d7-4924-b984-9cdfeadd1948",
   "metadata": {},
   "outputs": [
    {
     "name": "stdout",
     "output_type": "stream",
     "text": [
      "Vehicle started\n",
      "Car is being driven\n",
      "Sports car is racing\n"
     ]
    }
   ],
   "source": [
    "class Vehicle:\n",
    "    def start(self):\n",
    "        print(\"Vehicle started\")\n",
    "\n",
    "class Car(Vehicle):\n",
    "    def drive(self):\n",
    "        print(\"Car is being driven\")\n",
    "\n",
    "class SportsCar(Car):\n",
    "    def race(self):\n",
    "        print(\"Sports car is racing\")\n",
    "\n",
    "# Creating an instance of SportsCar\n",
    "my_sports_car = SportsCar()\n",
    "\n",
    "# Inheriting and using methods from Vehicle, Car, and SportsCar\n",
    "my_sports_car.start()  # Output: Vehicle started\n",
    "my_sports_car.drive()  # Output: Car is being driven\n",
    "my_sports_car.race()   # Output: Sports car is racing\n"
   ]
  }
 ],
 "metadata": {
  "kernelspec": {
   "display_name": "Python 3 (ipykernel)",
   "language": "python",
   "name": "python3"
  },
  "language_info": {
   "codemirror_mode": {
    "name": "ipython",
    "version": 3
   },
   "file_extension": ".py",
   "mimetype": "text/x-python",
   "name": "python",
   "nbconvert_exporter": "python",
   "pygments_lexer": "ipython3",
   "version": "3.10.8"
  }
 },
 "nbformat": 4,
 "nbformat_minor": 5
}
