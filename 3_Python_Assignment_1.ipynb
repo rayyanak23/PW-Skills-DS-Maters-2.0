{
 "cells": [
  {
   "cell_type": "markdown",
   "id": "c7d0147d-45dd-48f4-858f-9eb24835de4c",
   "metadata": {},
   "source": [
    "#1"
   ]
  },
  {
   "cell_type": "code",
   "execution_count": 1,
   "id": "43393903-a80f-407f-88bf-5193c5a709c1",
   "metadata": {},
   "outputs": [
    {
     "data": {
      "text/plain": [
       "[1, 3, 5, 7, 9, 11, 13, 15, 17, 19, 21, 23, 25]"
      ]
     },
     "execution_count": 1,
     "metadata": {},
     "output_type": "execute_result"
    }
   ],
   "source": [
    "# \"def\" keyword is used to create a function.\n",
    "def odd():\n",
    "    l = []\n",
    "    for i in range(25):\n",
    "        if (i+1) % 2 != 0:\n",
    "            l.append(i+1)\n",
    "    return l\n",
    "odd()        "
   ]
  },
  {
   "cell_type": "markdown",
   "id": "75d8e762-860b-4a46-a009-f05d0225dcd8",
   "metadata": {},
   "source": [
    "#2"
   ]
  },
  {
   "cell_type": "code",
   "execution_count": 2,
   "id": "96debcfe-25f4-45fe-a13b-9ba1d22cb269",
   "metadata": {},
   "outputs": [
    {
     "data": {
      "text/plain": [
       "(1, 2, 'hdshg', [1, 2])"
      ]
     },
     "execution_count": 2,
     "metadata": {},
     "output_type": "execute_result"
    }
   ],
   "source": [
    "# \"*args\" and \"**kwargs\" is used to allow user to put arbitrary no. of arguments in a function.\n",
    "# \"*args\" is used for positional arguments.\n",
    "# \"**kwargs\" is used for keyword arguments \n",
    "def ex1(*args):\n",
    "    return args\n",
    "def ex2(**kwargs):\n",
    "    return kwargs\n",
    "x = ex1(1,2,\"hdshg\",[1,2]) #returns list of arguments\n",
    "y = ex2(a = 1, b = 2, c = \"hdshg\", d = [1,2]) #return dictionary of keywords\n",
    "x"
   ]
  },
  {
   "cell_type": "code",
   "execution_count": 3,
   "id": "0cd14315-ad54-402b-b3b1-fae78d9aedd2",
   "metadata": {},
   "outputs": [
    {
     "data": {
      "text/plain": [
       "{'a': 1, 'b': 2, 'c': 'hdshg', 'd': [1, 2]}"
      ]
     },
     "execution_count": 3,
     "metadata": {},
     "output_type": "execute_result"
    }
   ],
   "source": [
    "y"
   ]
  },
  {
   "cell_type": "markdown",
   "id": "7da39618-af86-4842-a9ce-552ec560a5c3",
   "metadata": {},
   "source": [
    "#3"
   ]
  },
  {
   "cell_type": "code",
   "execution_count": 4,
   "id": "f9aa66a2-e078-456b-861f-8608d883bab8",
   "metadata": {},
   "outputs": [
    {
     "name": "stdout",
     "output_type": "stream",
     "text": [
      "2\n",
      "4\n",
      "6\n",
      "8\n",
      "10\n"
     ]
    }
   ],
   "source": [
    "# An iterator is an object that can be iterated upon, meaning that you can traverse through all the values.\n",
    "# \"iter()\" is used to initialise the iterator object and \"next()\" is used for iteration.\n",
    "my_list = [2, 4, 6, 8, 10, 12, 14, 16, 18, 20]\n",
    "my_iter = iter(my_list)\n",
    "for i in range(5):\n",
    "    print(next(my_iter))\n"
   ]
  },
  {
   "cell_type": "markdown",
   "id": "39115fc9-4511-4b93-99ac-18d7ab5b4caa",
   "metadata": {},
   "source": [
    "#4"
   ]
  },
  {
   "cell_type": "raw",
   "id": "b6854bd1-6b30-40e5-9973-ef20a1e2a9d9",
   "metadata": {},
   "source": [
    "A generator function in Python is a special type of function that allows you to iterate over a potentially large sequence of values without creating and storing the entire sequence in memory.\n",
    "\n",
    "\"yield\" keyword is used to produce a series of values lazily as they are requested. When a 'yield' statement is encountered, the function's state is saved, and the yielded value is returned to the caller. The function is paused at this point."
   ]
  },
  {
   "cell_type": "code",
   "execution_count": 5,
   "id": "69c63c73-ccbb-4c62-940c-a075e69a9c68",
   "metadata": {},
   "outputs": [
    {
     "data": {
      "text/plain": [
       "[1, 4, 9, 16, 25]"
      ]
     },
     "execution_count": 5,
     "metadata": {},
     "output_type": "execute_result"
    }
   ],
   "source": [
    "def list_gen(n):\n",
    "    count = 1\n",
    "    while count<=n:\n",
    "        yield count**2\n",
    "        count+=1\n",
    "l = []       \n",
    "for i in list_gen(5):\n",
    "    l.append(i)\n",
    "l"
   ]
  },
  {
   "cell_type": "markdown",
   "id": "85eb106b-4319-4b67-a57f-a26afd3584be",
   "metadata": {},
   "source": [
    "#5"
   ]
  },
  {
   "cell_type": "code",
   "execution_count": 185,
   "id": "0a4d5cc5",
   "metadata": {},
   "outputs": [
    {
     "name": "stdout",
     "output_type": "stream",
     "text": [
      "2\n",
      "3\n",
      "5\n",
      "7\n",
      "11\n",
      "13\n",
      "17\n",
      "19\n",
      "23\n",
      "29\n",
      "31\n",
      "37\n",
      "41\n",
      "43\n",
      "47\n",
      "53\n",
      "59\n",
      "61\n",
      "67\n",
      "71\n"
     ]
    }
   ],
   "source": [
    "def is_prime(num):\n",
    "    if num < 2:\n",
    "        return False\n",
    "    for i in range(2, int(num**0.5) + 1):\n",
    "        if num % i == 0:\n",
    "            return False\n",
    "    return True\n",
    "\n",
    "def primes_generator():\n",
    "    num = 2\n",
    "    while num < 1000:\n",
    "        if is_prime(num):\n",
    "            yield num\n",
    "        num += 1\n",
    "\n",
    "# Using the generator to print the first 20 prime numbers\n",
    "prime_gen = primes_generator()\n",
    "\n",
    "for _ in range(20):\n",
    "    print(next(prime_gen))\n"
   ]
  },
  {
   "cell_type": "markdown",
   "id": "075a7ac9-c54d-4bfe-8389-e083bd8ae9ad",
   "metadata": {},
   "source": [
    "#6"
   ]
  },
  {
   "cell_type": "code",
   "execution_count": 7,
   "id": "cd8b03b0-b565-4363-86bd-48429ac30081",
   "metadata": {},
   "outputs": [
    {
     "name": "stdout",
     "output_type": "stream",
     "text": [
      "0\n",
      "1\n",
      "1\n",
      "2\n",
      "3\n",
      "5\n",
      "8\n",
      "13\n",
      "21\n",
      "34\n"
     ]
    }
   ],
   "source": [
    "count=0\n",
    "x,y= 0,1\n",
    "while count<10:\n",
    "    print(x)\n",
    "    x,y = y,x+y\n",
    "    count+=1"
   ]
  },
  {
   "cell_type": "markdown",
   "id": "b4fa7c18-de86-48a0-880c-eb6e65deccaa",
   "metadata": {},
   "source": [
    "#7"
   ]
  },
  {
   "cell_type": "code",
   "execution_count": 8,
   "id": "94152a3f-d662-44c7-bea5-d09ced9ad13a",
   "metadata": {},
   "outputs": [
    {
     "data": {
      "text/plain": [
       "['p', 'w', 's', 'k', 'i', 'l', 'l', 's']"
      ]
     },
     "execution_count": 8,
     "metadata": {},
     "output_type": "execute_result"
    }
   ],
   "source": [
    "l =[x for x in \"pwskills\"]\n",
    "l"
   ]
  },
  {
   "cell_type": "markdown",
   "id": "12c1ac13-9164-4851-8969-c49c9e8bde31",
   "metadata": {},
   "source": [
    "#8"
   ]
  },
  {
   "cell_type": "code",
   "execution_count": 9,
   "id": "618f9e6e-92bf-4dc1-a82e-9dc245995868",
   "metadata": {},
   "outputs": [],
   "source": [
    "def is_pal(n):\n",
    "    a=''\n",
    "    n = str(n)\n",
    "    count = 0\n",
    "    while count < len(n):\n",
    "        a = n[count] + a\n",
    "        count += 1\n",
    "    return int(a) == int(n)"
   ]
  },
  {
   "cell_type": "code",
   "execution_count": 10,
   "id": "ec376236-6a3b-4872-a1e2-91342e975efe",
   "metadata": {},
   "outputs": [
    {
     "data": {
      "text/plain": [
       "False"
      ]
     },
     "execution_count": 10,
     "metadata": {},
     "output_type": "execute_result"
    }
   ],
   "source": [
    "is_pal(123)"
   ]
  },
  {
   "cell_type": "code",
   "execution_count": 11,
   "id": "fd432819-e2a7-4fc4-8f73-d23cfa22d9ec",
   "metadata": {},
   "outputs": [
    {
     "data": {
      "text/plain": [
       "True"
      ]
     },
     "execution_count": 11,
     "metadata": {},
     "output_type": "execute_result"
    }
   ],
   "source": [
    "is_pal(12321)"
   ]
  },
  {
   "cell_type": "markdown",
   "id": "cc018b04-3950-482d-b2f3-dbe6731c46ef",
   "metadata": {},
   "source": [
    "#9"
   ]
  },
  {
   "cell_type": "code",
   "execution_count": 12,
   "id": "835291c0-7465-47b1-b399-526f2e08bf20",
   "metadata": {},
   "outputs": [],
   "source": [
    "odd = [x+1 for x in range(100) if (x+1)%2 != 0]"
   ]
  },
  {
   "cell_type": "code",
   "execution_count": 13,
   "id": "0e10cb85-9bad-46da-b72d-770e24d4b1b0",
   "metadata": {},
   "outputs": [
    {
     "data": {
      "text/plain": [
       "[1,\n",
       " 3,\n",
       " 5,\n",
       " 7,\n",
       " 9,\n",
       " 11,\n",
       " 13,\n",
       " 15,\n",
       " 17,\n",
       " 19,\n",
       " 21,\n",
       " 23,\n",
       " 25,\n",
       " 27,\n",
       " 29,\n",
       " 31,\n",
       " 33,\n",
       " 35,\n",
       " 37,\n",
       " 39,\n",
       " 41,\n",
       " 43,\n",
       " 45,\n",
       " 47,\n",
       " 49,\n",
       " 51,\n",
       " 53,\n",
       " 55,\n",
       " 57,\n",
       " 59,\n",
       " 61,\n",
       " 63,\n",
       " 65,\n",
       " 67,\n",
       " 69,\n",
       " 71,\n",
       " 73,\n",
       " 75,\n",
       " 77,\n",
       " 79,\n",
       " 81,\n",
       " 83,\n",
       " 85,\n",
       " 87,\n",
       " 89,\n",
       " 91,\n",
       " 93,\n",
       " 95,\n",
       " 97,\n",
       " 99]"
      ]
     },
     "execution_count": 13,
     "metadata": {},
     "output_type": "execute_result"
    }
   ],
   "source": [
    "odd"
   ]
  }
 ],
 "metadata": {
  "kernelspec": {
   "display_name": "Python 3 (ipykernel)",
   "language": "python",
   "name": "python3"
  },
  "language_info": {
   "codemirror_mode": {
    "name": "ipython",
    "version": 3
   },
   "file_extension": ".py",
   "mimetype": "text/x-python",
   "name": "python",
   "nbconvert_exporter": "python",
   "pygments_lexer": "ipython3",
   "version": "3.10.8"
  }
 },
 "nbformat": 4,
 "nbformat_minor": 5
}
